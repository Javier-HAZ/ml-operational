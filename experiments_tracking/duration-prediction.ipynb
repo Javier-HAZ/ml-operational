{
 "cells": [
  {
   "cell_type": "code",
   "execution_count": 1,
   "id": "b2bd82d7",
   "metadata": {},
   "outputs": [
    {
     "name": "stdout",
     "output_type": "stream",
     "text": [
      "Python 3.10.13\n"
     ]
    }
   ],
   "source": [
    "!python -V"
   ]
  },
  {
   "cell_type": "code",
   "execution_count": 2,
   "id": "41062d8a",
   "metadata": {},
   "outputs": [],
   "source": [
    "import pandas as pd"
   ]
  },
  {
   "cell_type": "code",
   "execution_count": 3,
   "id": "c984c564",
   "metadata": {},
   "outputs": [],
   "source": [
    "import pickle"
   ]
  },
  {
   "cell_type": "code",
   "execution_count": 4,
   "id": "4add538c",
   "metadata": {},
   "outputs": [],
   "source": [
    "import seaborn as sns\n",
    "import matplotlib.pyplot as plt"
   ]
  },
  {
   "cell_type": "code",
   "execution_count": 5,
   "id": "8b135c2b",
   "metadata": {},
   "outputs": [],
   "source": [
    "from sklearn.feature_extraction import DictVectorizer\n",
    "from sklearn.linear_model import LinearRegression\n",
    "from sklearn.linear_model import Lasso\n",
    "from sklearn.linear_model import Ridge\n",
    "\n",
    "from sklearn.metrics import root_mean_squared_error"
   ]
  },
  {
   "cell_type": "code",
   "execution_count": 7,
   "id": "6c1be04a-baf5-49c9-8a1f-ecd948ba3c9a",
   "metadata": {},
   "outputs": [],
   "source": [
    "import mlflow"
   ]
  },
  {
   "cell_type": "code",
   "execution_count": 8,
   "id": "2f03f196-f7e5-418b-9c1a-8b3475e3be44",
   "metadata": {},
   "outputs": [
    {
     "data": {
      "text/plain": [
       "<Experiment: artifact_location='/workspaces/ml-operational/experiments_tracking/mlruns/1', creation_time=1716427138970, experiment_id='1', last_update_time=1716427138970, lifecycle_stage='active', name='experiment_number_1', tags={}>"
      ]
     },
     "execution_count": 8,
     "metadata": {},
     "output_type": "execute_result"
    }
   ],
   "source": [
    "mlflow.set_tracking_uri(\"sqlite:///mlflow.db\")\n",
    "mlflow.set_experiment(\"experiment_number_1\")"
   ]
  },
  {
   "cell_type": "code",
   "execution_count": 9,
   "id": "11b47189-a1c5-4395-934a-abfe8189a7d4",
   "metadata": {},
   "outputs": [],
   "source": [
    "def load_and_preprocess(filename, categorical, target):\n",
    "    \"\"\"\n",
    "    Read the filename and create a new column for the trip duration in mins,\n",
    "    filtering of the data to 1 < min < 60 mins and converts the cat columns to strings\n",
    "    \"\"\"\n",
    "    # Read the data\n",
    "    if filename.endswith('.csv'):\n",
    "        df = pd.read_csv(filename)\n",
    "        df.lpep_dropoff_datetime = pd.to_datetime(df.lpep_dropoff_datetime)\n",
    "        df.lpep_pickup_datetime = pd.to_datetime(df.lpep_pickup_datetime)\n",
    "    elif filename.endswith('.parquet'):\n",
    "        df = pd.read_parquet(filename)\n",
    "    # df = pd.read_parquet(filename)\n",
    "    \n",
    "    # Create duration column in mins\n",
    "    df['duration'] = df.tpep_dropoff_datetime - df.tpep_pickup_datetime\n",
    "    df.duration = df.duration.dt.total_seconds() / 60\n",
    "    \n",
    "    # filter duration \n",
    "    df = df[(df.duration >= 1) & (df.duration <= 60)]\n",
    "    \n",
    "    # convert the cat into strings\n",
    "    df[categorical] = df[categorical].astype(str)\n",
    "\n",
    "    return df"
   ]
  },
  {
   "cell_type": "markdown",
   "id": "596d8e3c-ccf9-4a83-8991-b9df3112a416",
   "metadata": {},
   "source": [
    "Read the data:"
   ]
  },
  {
   "cell_type": "code",
   "execution_count": 12,
   "id": "8e013caf",
   "metadata": {},
   "outputs": [],
   "source": [
    "train_path = 'taxi_data/yellow_tripdata_2023-01.parquet'\n",
    "categorical = ['PULocationID', 'DOLocationID']\n",
    "numerical_target = ['duration']"
   ]
  },
  {
   "cell_type": "code",
   "execution_count": null,
   "id": "35bc032b-33f6-4d8e-8c94-8d6eb37b90c5",
   "metadata": {},
   "outputs": [],
   "source": [
    "df = load_and_preprocess(train_path, categorical, numerical_target)"
   ]
  },
  {
   "cell_type": "markdown",
   "id": "de89ebcc-2307-4475-891d-ed5d64c124f8",
   "metadata": {},
   "source": [
    "Simple feature engineering: Use DictVectorizer to encode the categorical variables:"
   ]
  },
  {
   "cell_type": "code",
   "execution_count": 19,
   "id": "116ff0cc",
   "metadata": {},
   "outputs": [
    {
     "data": {
      "text/plain": [
       "[{'PULocationID': '161', 'DOLocationID': '141'},\n",
       " {'PULocationID': '43', 'DOLocationID': '237'},\n",
       " {'PULocationID': '48', 'DOLocationID': '238'},\n",
       " {'PULocationID': '138', 'DOLocationID': '7'},\n",
       " {'PULocationID': '107', 'DOLocationID': '79'}]"
      ]
     },
     "execution_count": 19,
     "metadata": {},
     "output_type": "execute_result"
    }
   ],
   "source": [
    "train_dicts = df[categorical].to_dict(orient='records')\n",
    "train_dicts[:5]"
   ]
  },
  {
   "cell_type": "code",
   "execution_count": 20,
   "id": "d510e2b8-e156-4f49-b22c-4bb640245243",
   "metadata": {},
   "outputs": [],
   "source": [
    "dv = DictVectorizer()\n",
    "X_train = dv.fit_transform(train_dicts)\n",
    "\n",
    "y_train = df[numerical_target].values"
   ]
  },
  {
   "cell_type": "markdown",
   "id": "6ac56654-92b1-4dd7-b8ae-54a5e313eac1",
   "metadata": {},
   "source": [
    "Train a new model:"
   ]
  },
  {
   "cell_type": "code",
   "execution_count": 22,
   "id": "d7a5f31f-ce7f-461b-b17d-e35390bc43f4",
   "metadata": {},
   "outputs": [
    {
     "name": "stderr",
     "output_type": "stream",
     "text": [
      "/home/codespace/.local/lib/python3.10/site-packages/sklearn/metrics/_regression.py:483: FutureWarning: 'squared' is deprecated in version 1.4 and will be removed in 1.6. To calculate the root mean squared error, use the function'root_mean_squared_error'.\n",
      "  warnings.warn(\n"
     ]
    }
   ],
   "source": [
    "with mlflow.start_run():\n",
    "    mlflow.set_tag(\"ML engineer\", \"Javi Hdz\")\n",
    "    mlflow.log_param(\"train-data-path\", train_path)\n",
    "\n",
    "    #Hyperparameter:\n",
    "    alpha = 0.1\n",
    "    mlflow.log_param(\"alpha\", alpha)\n",
    "    \n",
    "    lr = Lasso(alpha=alpha)\n",
    "    lr.fit(X_train, y_train)\n",
    "    \n",
    "    y_pred = lr.predict(X_train)\n",
    "    \n",
    "    rmse = root_mean_squared_error(y_train, y_pred)\n",
    "    mlflow.log_metric(\"rmse\", rmse)"
   ]
  },
  {
   "cell_type": "markdown",
   "id": "8e7f2861-32ec-47d5-bc9d-5f2aaa18bbef",
   "metadata": {},
   "source": [
    "Distributions of the predictions and target:"
   ]
  },
  {
   "cell_type": "code",
   "execution_count": 28,
   "id": "b134c97b",
   "metadata": {},
   "outputs": [
    {
     "data": {
      "text/plain": [
       "<matplotlib.legend.Legend at 0x7af1608e2530>"
      ]
     },
     "execution_count": 28,
     "metadata": {},
     "output_type": "execute_result"
    },
    {
     "data": {
      "image/png": "[encoded data removed]",
      "text/plain": [
       "<Figure size 640x480 with 1 Axes>"
      ]
     },
     "metadata": {},
     "output_type": "display_data"
    }
   ],
   "source": [
    "fig = sns.histplot(y_pred, label='prediction', kde=True, color='k')\n",
    "plt.xlabel('Trip duration')\n",
    "sns.histplot(y_train, label='actual', kde=True, color='r')\n",
    "fig.set_ylim(0, 30000)\n",
    "plt.legend()"
   ]
  },
  {
   "cell_type": "markdown",
   "id": "c9cd2bd0-b2af-4b67-8b5c-e408911fbce6",
   "metadata": {},
   "source": [
    "### **Hyperparameter tunning:**"
   ]
  },
  {
   "cell_type": "code",
   "execution_count": 13,
   "id": "08266122-390d-4cce-a00a-d0d816dda1db",
   "metadata": {},
   "outputs": [
    {
     "name": "stderr",
     "output_type": "stream",
     "text": [
      "2024/05/24 00:13:32 INFO mlflow.tracking.fluent: Experiment with name 'HyperparametersTunning_1' does not exist. Creating a new experiment.\n"
     ]
    },
    {
     "data": {
      "text/plain": [
       "<Experiment: artifact_location='/workspaces/ml-operational/experiments_tracking/mlruns/2', creation_time=1716509612366, experiment_id='2', last_update_time=1716509612366, lifecycle_stage='active', name='HyperparametersTunning_1', tags={}>"
      ]
     },
     "execution_count": 13,
     "metadata": {},
     "output_type": "execute_result"
    }
   ],
   "source": [
    "mlflow.set_experiment(\"HyperparametersTunning_1\")"
   ]
  },
  {
   "cell_type": "code",
   "execution_count": 14,
   "id": "a2923d4e-6685-4eec-8c94-27adc17ec16c",
   "metadata": {},
   "outputs": [],
   "source": [
    "import xgboost as xgb"
   ]
  },
  {
   "cell_type": "code",
   "execution_count": 15,
   "id": "3a92c851-483c-476a-a109-eddb4d1422eb",
   "metadata": {},
   "outputs": [],
   "source": [
    "from hyperopt import fmin, tpe, hp, STATUS_OK, Trials\n",
    "from hyperopt.pyll import scope"
   ]
  },
  {
   "cell_type": "code",
   "execution_count": 17,
   "id": "1a2de689-7e7d-4f2a-a826-5ef860811e40",
   "metadata": {},
   "outputs": [],
   "source": [
    "train_path = 'taxi_data/yellow_tripdata_2023-01.parquet'\n",
    "val_path = 'taxi_data/yellow_tripdata_2023-02.parquet'"
   ]
  },
  {
   "cell_type": "code",
   "execution_count": 18,
   "id": "fdab0e10-2440-4a33-b524-17bf74ab612d",
   "metadata": {},
   "outputs": [
    {
     "name": "stdout",
     "output_type": "stream",
     "text": [
      "train data size: 3009173, val data size: 2855951\n"
     ]
    }
   ],
   "source": [
    "df_train = load_and_preprocess(train_path, categorical, numerical_target)\n",
    "df_val = load_and_preprocess(val_path, categorical, numerical_target)\n",
    "\n",
    "print(f\"train data size: {len(df_train)}, val data size: {len(df_val)}\")"
   ]
  },
  {
   "cell_type": "code",
   "execution_count": 19,
   "id": "c4426fa3-4e60-45ed-aab1-7c651c3e4466",
   "metadata": {},
   "outputs": [],
   "source": [
    "train_dicts = df_train[categorical].to_dict(orient='records')\n",
    "val_dicts = df_val[categorical].to_dict(orient='records')"
   ]
  },
  {
   "cell_type": "code",
   "execution_count": 20,
   "id": "416c3e83-e62e-484b-b472-75a67244691d",
   "metadata": {},
   "outputs": [],
   "source": [
    "dv = DictVectorizer()\n",
    "\n",
    "X_train = dv.fit_transform(train_dicts)\n",
    "X_val = dv.transform(val_dicts)"
   ]
  },
  {
   "cell_type": "code",
   "execution_count": 22,
   "id": "b3f543ea-bb0f-4aac-addb-016ceecec51e",
   "metadata": {},
   "outputs": [],
   "source": [
    "y_train = df_train[numerical_target].values\n",
    "y_val = df_val[numerical_target].values"
   ]
  },
  {
   "cell_type": "code",
   "execution_count": 23,
   "id": "4242acbf-9142-4a92-9cb1-5a19c7ca0344",
   "metadata": {},
   "outputs": [],
   "source": [
    "train = xgb.DMatrix(X_train, label=y_train)\n",
    "valid = xgb.DMatrix(X_val, label=y_val)"
   ]
  },
  {
   "cell_type": "code",
   "execution_count": 24,
   "id": "31d7897d-168a-47cc-8d83-740e135b784a",
   "metadata": {},
   "outputs": [],
   "source": [
    "def objective(params):\n",
    "    with mlflow.start_run():\n",
    "        mlflow.set_tag(\"model\", \"xgboost\")\n",
    "        mlflow.log_params(params)\n",
    "        booster = xgb.train(\n",
    "            params=params,\n",
    "            dtrain=train,\n",
    "            num_boost_round=1000,\n",
    "            evals=[(valid, 'validation')],\n",
    "            early_stopping_rounds=50\n",
    "        )\n",
    "        y_pred = booster.predict(valid)\n",
    "        rmse = mean_squared_error(y_val, y_pred, squared=False)\n",
    "        mlflow.log_metric(\"rmse\", rmse)\n",
    "\n",
    "    return {'loss': rmse, 'status': STATUS_OK}"
   ]
  },
  {
   "cell_type": "code",
   "execution_count": null,
   "id": "54de4e29-7f67-44f4-8d2c-fd5727b951a8",
   "metadata": {},
   "outputs": [],
   "source": [
    "search_space = {\n",
    "    'max_depth': scope.int(hp.quniform('max_depth', 5, 15, 5)),\n",
    "    'learning_rate': hp.loguniform('learning_rate', -3, 0),\n",
    "    # 'reg_alpha': hp.loguniform('reg_alpha', -5, -1),\n",
    "    # 'reg_lambda': hp.loguniform('reg_lambda', -6, -1),\n",
    "    'min_child_weight': hp.loguniform('min_child_weight', -1, 3),\n",
    "    'objective': 'reg:linear',\n",
    "    'seed': 42\n",
    "}"
   ]
  },
  {
   "cell_type": "code",
   "execution_count": null,
   "id": "687d52d4-a1b1-4948-9315-b6ad8b07eeea",
   "metadata": {},
   "outputs": [],
   "source": [
    "best_result = fmin(\n",
    "    fn=objective,\n",
    "    space=search_space,\n",
    "    algo=tpe.suggest,\n",
    "    max_evals=50,\n",
    "    trials=Trials()\n",
    ")"
   ]
  },
  {
   "cell_type": "code",
   "execution_count": 16,
   "id": "22bf6f8b",
   "metadata": {},
   "outputs": [],
   "source": [
    "with open('models/lin_reg.bin', 'wb') as f_out:\n",
    "    pickle.dump((dv, lr), f_out)"
   ]
  }
 ],
 "metadata": {
  "kernelspec": {
   "display_name": "Python 3 (ipykernel)",
   "language": "python",
   "name": "python3"
  },
  "language_info": {
   "codemirror_mode": {
    "name": "ipython",
    "version": 3
   },
   "file_extension": ".py",
   "mimetype": "text/x-python",
   "name": "python",
   "nbconvert_exporter": "python",
   "pygments_lexer": "ipython3",
   "version": "3.10.13"
  }
 },
 "nbformat": 4,
 "nbformat_minor": 5
}
